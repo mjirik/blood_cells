{
 "cells": [
  {
   "cell_type": "code",
   "execution_count": null,
   "metadata": {
    "collapsed": true
   },
   "outputs": [],
   "source": [
    "\n",
    "import skimage\n",
    "import skimage.filters\n",
    "from pathlib import Path\n",
    "import io3d\n",
    "from matplotlib import pyplot as plt\n",
    "import scipy\n",
    "import exsu\n",
    "from skimage.morphology import label\n",
    "from scipy.ndimage.morphology import binary_closing, binary_erosion, binary_opening, binary_dilation\n",
    "from skimage.color import label2rgb\n",
    "from skimage.measure import regionprops, regionprops_table\n",
    "import skimage.io\n",
    "import pandas as pd\n",
    "from sklearn import datasets\n",
    "import numpy as np\n",
    "import seaborn as sns\n",
    "import sklearn.model_selection\n",
    "import exsu\n",
    "import datetime\n",
    "from loguru import logger"
   ]
  },
  {
   "cell_type": "code",
   "execution_count": 1,
   "outputs": [],
   "source": [
    "separate_cells = False\n",
    "# 271px = 10um\n",
    "# pxsz_mm = 0.010/271\n",
    "debug = True\n",
    "debug = False\n",
    "pxsz_um = 10.0/271.0\n",
    "pxsz_um\n",
    "min_size_um2 = 5.\n",
    "max_size_um2 = 40."
   ],
   "metadata": {
    "collapsed": false,
    "pycharm": {
     "name": "#%%\n"
    }
   }
  },
  {
   "cell_type": "code",
   "execution_count": 2,
   "outputs": [
    {
     "ename": "NameError",
     "evalue": "name 'exsu' is not defined",
     "output_type": "error",
     "traceback": [
      "\u001B[1;31m---------------------------------------------------------------------------\u001B[0m",
      "\u001B[1;31mNameError\u001B[0m                                 Traceback (most recent call last)",
      "\u001B[1;32m<ipython-input-2-e60f389418e3>\u001B[0m in \u001B[0;36m<module>\u001B[1;34m\u001B[0m\n\u001B[1;32m----> 1\u001B[1;33m \u001B[0mreport\u001B[0m \u001B[1;33m=\u001B[0m \u001B[0mexsu\u001B[0m\u001B[1;33m.\u001B[0m\u001B[0mReport\u001B[0m\u001B[1;33m(\u001B[0m\u001B[1;34m'graphics'\u001B[0m\u001B[1;33m,\u001B[0m \u001B[0mshow\u001B[0m\u001B[1;33m=\u001B[0m\u001B[0mdebug\u001B[0m\u001B[1;33m)\u001B[0m\u001B[1;33m\u001B[0m\u001B[0m\n\u001B[0m\u001B[0;32m      2\u001B[0m \u001B[0mdf\u001B[0m \u001B[1;33m=\u001B[0m \u001B[0mpd\u001B[0m\u001B[1;33m.\u001B[0m\u001B[0mread_csv\u001B[0m\u001B[1;33m(\u001B[0m\u001B[1;34m\"blood_cells.csv\"\u001B[0m\u001B[1;33m,\u001B[0m \u001B[0mindex_col\u001B[0m\u001B[1;33m=\u001B[0m\u001B[1;36m0\u001B[0m\u001B[1;33m)\u001B[0m\u001B[1;33m.\u001B[0m\u001B[0mreset_index\u001B[0m\u001B[1;33m(\u001B[0m\u001B[1;33m)\u001B[0m\u001B[1;33m\u001B[0m\u001B[0m\n\u001B[0;32m      3\u001B[0m \u001B[0mdfs\u001B[0m \u001B[1;33m=\u001B[0m \u001B[0mdf\u001B[0m\u001B[1;33m\u001B[0m\u001B[0m\n\u001B[0;32m      4\u001B[0m \u001B[1;33m\u001B[0m\u001B[0m\n\u001B[0;32m      5\u001B[0m \u001B[1;33m\u001B[0m\u001B[0m\n",
      "\u001B[1;31mNameError\u001B[0m: name 'exsu' is not defined"
     ]
    }
   ],
   "source": [
    "report = exsu.Report('graphics', show=debug)\n",
    "df = pd.read_csv(\"blood_cells.csv\", index_col=0).reset_index()\n",
    "dfs = df\n"
   ],
   "metadata": {
    "collapsed": false,
    "pycharm": {
     "name": "#%%\n"
    }
   }
  },
  {
   "cell_type": "code",
   "execution_count": 3,
   "outputs": [
    {
     "ename": "NameError",
     "evalue": "name 'np' is not defined",
     "output_type": "error",
     "traceback": [
      "\u001B[1;31m---------------------------------------------------------------------------\u001B[0m",
      "\u001B[1;31mNameError\u001B[0m                                 Traceback (most recent call last)",
      "\u001B[1;32m<ipython-input-3-9c3a6a1aa0d1>\u001B[0m in \u001B[0;36m<module>\u001B[1;34m\u001B[0m\n\u001B[0;32m      4\u001B[0m \u001B[0mprop\u001B[0m \u001B[1;33m=\u001B[0m \u001B[1;34m\"major_axis_length\"\u001B[0m\u001B[1;33m\u001B[0m\u001B[0m\n\u001B[0;32m      5\u001B[0m \u001B[0mprop\u001B[0m \u001B[1;33m=\u001B[0m \u001B[1;34m\"mima\"\u001B[0m\u001B[1;33m\u001B[0m\u001B[0m\n\u001B[1;32m----> 6\u001B[1;33m \u001B[0ma\u001B[0m \u001B[1;33m=\u001B[0m \u001B[0mnp\u001B[0m\u001B[1;33m.\u001B[0m\u001B[0marray\u001B[0m\u001B[1;33m(\u001B[0m\u001B[0mdfs\u001B[0m\u001B[1;33m[\u001B[0m\u001B[0mdfs\u001B[0m\u001B[1;33m.\u001B[0m\u001B[0mcl\u001B[0m\u001B[1;33m==\u001B[0m\u001B[1;36m1\u001B[0m\u001B[1;33m]\u001B[0m\u001B[1;33m[\u001B[0m\u001B[1;34m\"minor_axis_length\"\u001B[0m\u001B[1;33m]\u001B[0m\u001B[1;33m[\u001B[0m\u001B[0mdfs\u001B[0m\u001B[1;33m.\u001B[0m\u001B[0mim_id\u001B[0m\u001B[1;33m>\u001B[0m\u001B[1;36m0\u001B[0m\u001B[1;33m]\u001B[0m\u001B[1;33m)\u001B[0m\u001B[1;33m\u001B[0m\u001B[0m\n\u001B[0m\u001B[0;32m      7\u001B[0m \u001B[0mb\u001B[0m \u001B[1;33m=\u001B[0m \u001B[0mnp\u001B[0m\u001B[1;33m.\u001B[0m\u001B[0marray\u001B[0m\u001B[1;33m(\u001B[0m\u001B[0mdfs\u001B[0m\u001B[1;33m[\u001B[0m\u001B[0mdfs\u001B[0m\u001B[1;33m.\u001B[0m\u001B[0mcl\u001B[0m\u001B[1;33m==\u001B[0m\u001B[1;36m5\u001B[0m\u001B[1;33m]\u001B[0m\u001B[1;33m[\u001B[0m\u001B[1;34m\"minor_axis_length\"\u001B[0m\u001B[1;33m]\u001B[0m\u001B[1;33m[\u001B[0m\u001B[0mdfs\u001B[0m\u001B[1;33m.\u001B[0m\u001B[0mim_id\u001B[0m\u001B[1;33m>\u001B[0m\u001B[1;36m0\u001B[0m\u001B[1;33m]\u001B[0m\u001B[1;33m)\u001B[0m\u001B[1;33m\u001B[0m\u001B[0m\n\u001B[0;32m      8\u001B[0m \u001B[1;31m# np.random.random(a.size)\u001B[0m\u001B[1;33m\u001B[0m\u001B[1;33m\u001B[0m\u001B[0m\n",
      "\u001B[1;31mNameError\u001B[0m: name 'np' is not defined"
     ]
    }
   ],
   "source": [
    "\n",
    "import scipy.stats\n",
    "bins = 10\n",
    "prop = \"minor_axis_length\"\n",
    "prop = \"major_axis_length\"\n",
    "prop = \"mima\"\n",
    "a = np.array(dfs[dfs.cl==1][\"minor_axis_length\"][dfs.im_id>0])\n",
    "b = np.array(dfs[dfs.cl==5][\"minor_axis_length\"][dfs.im_id>0])\n",
    "# np.random.random(a.size)\n",
    "sns.histplot(dfs, x=prop, hue=\"cl\", bins=bins)\n",
    "print(scipy.stats.kstest(list(a),list(b), N=bins))\n",
    "\n",
    "print(len(a), len(b))\n",
    "ya, bn = np.histogram(a, bins=bins)\n",
    "yb, bn = np.histogram(b, bins=bn)\n",
    "print(scipy.stats.chisquare(ya,yb))\n",
    "\n",
    "print(scipy.stats.mannwhitneyu(a,b))"
   ],
   "metadata": {
    "collapsed": false,
    "pycharm": {
     "name": "#%%\n"
    }
   }
  },
  {
   "cell_type": "code",
   "execution_count": null,
   "outputs": [],
   "source": [],
   "metadata": {
    "collapsed": false,
    "pycharm": {
     "name": "#%%\n"
    }
   }
  }
 ],
 "metadata": {
  "kernelspec": {
   "display_name": "Python 3",
   "language": "python",
   "name": "python3"
  },
  "language_info": {
   "codemirror_mode": {
    "name": "ipython",
    "version": 2
   },
   "file_extension": ".py",
   "mimetype": "text/x-python",
   "name": "python",
   "nbconvert_exporter": "python",
   "pygments_lexer": "ipython2",
   "version": "2.7.6"
  }
 },
 "nbformat": 4,
 "nbformat_minor": 0
}